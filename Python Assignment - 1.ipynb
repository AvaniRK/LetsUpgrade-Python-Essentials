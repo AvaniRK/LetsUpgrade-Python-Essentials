{
 "cells": [
  {
   "cell_type": "markdown",
   "metadata": {},
   "source": [
    "#                                            ASSIGNMENT NO. - 1"
   ]
  },
  {
   "cell_type": "markdown",
   "metadata": {},
   "source": [
    "# Question - 1:"
   ]
  },
  {
   "cell_type": "markdown",
   "metadata": {},
   "source": [
    "Try 5 different functions of the string in python."
   ]
  },
  {
   "cell_type": "code",
   "execution_count": 1,
   "metadata": {},
   "outputs": [
    {
     "data": {
      "text/plain": [
       "'hello world!'"
      ]
     },
     "execution_count": 1,
     "metadata": {},
     "output_type": "execute_result"
    }
   ],
   "source": [
    "#Function-1: lower()-to return the string in lower case.\n",
    "\n",
    "a=\"HeLLo woRLd!\"\n",
    "a.lower()"
   ]
  },
  {
   "cell_type": "code",
   "execution_count": 2,
   "metadata": {},
   "outputs": [
    {
     "data": {
      "text/plain": [
       "'HeMMo woRMd!'"
      ]
     },
     "execution_count": 2,
     "metadata": {},
     "output_type": "execute_result"
    }
   ],
   "source": [
    "#Function-2: replace()-to replace a string with another string. \n",
    "\n",
    "a.replace('L','M')"
   ]
  },
  {
   "cell_type": "code",
   "execution_count": 3,
   "metadata": {},
   "outputs": [
    {
     "data": {
      "text/plain": [
       "'hEllO WOrlD!'"
      ]
     },
     "execution_count": 3,
     "metadata": {},
     "output_type": "execute_result"
    }
   ],
   "source": [
    "#Function-3: swapcase()-to convert the lower case letters to upper case and vice versa.\n",
    "\n",
    "a.swapcase()"
   ]
  },
  {
   "cell_type": "code",
   "execution_count": 4,
   "metadata": {},
   "outputs": [
    {
     "data": {
      "text/plain": [
       "3"
      ]
     },
     "execution_count": 4,
     "metadata": {},
     "output_type": "execute_result"
    }
   ],
   "source": [
    "#Function-4: count()-to return the number of times a specified value occurs in a string.\n",
    "\n",
    "b=\"hey, i Am From Kerala.what AbouT YOU?\"\n",
    "b.count('a')"
   ]
  },
  {
   "cell_type": "code",
   "execution_count": 5,
   "metadata": {},
   "outputs": [
    {
     "data": {
      "text/plain": [
       "('hey, i Am From ', 'Kerala', '.what AbouT YOU?')"
      ]
     },
     "execution_count": 5,
     "metadata": {},
     "output_type": "execute_result"
    }
   ],
   "source": [
    "#Function-5: partition()- to search a specified string and splits the entire string into a tuple containing three elements.\n",
    "\n",
    "b.partition(\"Kerala\")"
   ]
  },
  {
   "cell_type": "markdown",
   "metadata": {},
   "source": [
    "# Question - 2:"
   ]
  },
  {
   "cell_type": "markdown",
   "metadata": {},
   "source": [
    "Try 5 different functions of the List object in Python."
   ]
  },
  {
   "cell_type": "code",
   "execution_count": 9,
   "metadata": {},
   "outputs": [],
   "source": [
    "num=[1,2,3,4]\n",
    "name=[\"elza\",\"jack\",\"rina\",\"mike\"]"
   ]
  },
  {
   "cell_type": "code",
   "execution_count": 10,
   "metadata": {},
   "outputs": [
    {
     "name": "stdout",
     "output_type": "stream",
     "text": [
      "[1, 2, 3, 4, 'elza', 'jack', 'rina', 'mike']\n"
     ]
    }
   ],
   "source": [
    "#Function-1: extend()-to append elements from another list to the current list.\n",
    "\n",
    "num.extend(name)\n",
    "print(num)"
   ]
  },
  {
   "cell_type": "code",
   "execution_count": 11,
   "metadata": {},
   "outputs": [
    {
     "name": "stdout",
     "output_type": "stream",
     "text": [
      "['elza', 'jack', 'mike']\n"
     ]
    }
   ],
   "source": [
    "#Function-2: remove()-to remove the specified item from the list.\n",
    "\n",
    "name.remove(\"rina\")\n",
    "print(name)"
   ]
  },
  {
   "cell_type": "code",
   "execution_count": 12,
   "metadata": {},
   "outputs": [
    {
     "data": {
      "text/plain": [
       "3"
      ]
     },
     "execution_count": 12,
     "metadata": {},
     "output_type": "execute_result"
    }
   ],
   "source": [
    "#Function-3: len()-to return the number of items in a list.\n",
    "\n",
    "len(name)"
   ]
  },
  {
   "cell_type": "code",
   "execution_count": 13,
   "metadata": {},
   "outputs": [
    {
     "name": "stdout",
     "output_type": "stream",
     "text": [
      "['apple', 2, 4, 'grapes', 'orange', 8, 5, 10]\n"
     ]
    }
   ],
   "source": [
    "#Function-4: list()-the list() constructor is used to create a new list.\n",
    "\n",
    "l=list((\"apple\",2,4,\"grapes\",\"orange\",8,5,10))\n",
    "print(l)"
   ]
  },
  {
   "cell_type": "code",
   "execution_count": 14,
   "metadata": {},
   "outputs": [
    {
     "name": "stdout",
     "output_type": "stream",
     "text": [
      "[]\n"
     ]
    }
   ],
   "source": [
    "#Function-5: clear()-to clear all the contents of a list i.e; it empties a list.\n",
    "\n",
    "num.clear()\n",
    "print(num)"
   ]
  },
  {
   "cell_type": "markdown",
   "metadata": {},
   "source": [
    "# Question - 3:"
   ]
  },
  {
   "cell_type": "markdown",
   "metadata": {},
   "source": [
    "Experiment with atleast 5 default functions of Dictionary."
   ]
  },
  {
   "cell_type": "code",
   "execution_count": 19,
   "metadata": {},
   "outputs": [],
   "source": [
    "fruits={\"red\":\"apple\",\"violet\":\"grapes\",\"yellow\":\"banana\",\"orange\":\"orange\"}\n",
    "person={\"name\":\"vikky\",\"age\":21,\"address\":\"HNo-2,XYZ - Mumbai\"}"
   ]
  },
  {
   "cell_type": "code",
   "execution_count": 20,
   "metadata": {},
   "outputs": [
    {
     "data": {
      "text/plain": [
       "dict_keys(['red', 'violet', 'yellow', 'orange'])"
      ]
     },
     "execution_count": 20,
     "metadata": {},
     "output_type": "execute_result"
    }
   ],
   "source": [
    "#Function-1: keys()-to return a list of all the keys in the dictionary.\n",
    "\n",
    "fruits.keys()"
   ]
  },
  {
   "cell_type": "code",
   "execution_count": 21,
   "metadata": {},
   "outputs": [
    {
     "data": {
      "text/plain": [
       "dict_items([('red', 'apple'), ('violet', 'grapes'), ('yellow', 'banana'), ('orange', 'orange')])"
      ]
     },
     "execution_count": 21,
     "metadata": {},
     "output_type": "execute_result"
    }
   ],
   "source": [
    "#Funtion-2: items()-to return each item in the dictionary as tuples in a list.\n",
    "\n",
    "fruits.items()"
   ]
  },
  {
   "cell_type": "code",
   "execution_count": 23,
   "metadata": {},
   "outputs": [
    {
     "name": "stdout",
     "output_type": "stream",
     "text": [
      "{'name': 'vikky', 'age': 40, 'address': 'HNo-2,XYZ - Mumbai'}\n"
     ]
    }
   ],
   "source": [
    "#Function-3: update()-to update the dictionary with the items from the given argument.\n",
    "\n",
    "person.update({\"age\":40})\n",
    "print(person)"
   ]
  },
  {
   "cell_type": "code",
   "execution_count": 24,
   "metadata": {},
   "outputs": [
    {
     "name": "stdout",
     "output_type": "stream",
     "text": [
      "{'red': 'apple', 'yellow': 'banana', 'orange': 'orange'}\n"
     ]
    }
   ],
   "source": [
    "#Function-4: pop()-to remove the item with the specified key name.\n",
    "\n",
    "fruits.pop(\"violet\")\n",
    "print(fruits)"
   ]
  },
  {
   "cell_type": "code",
   "execution_count": 25,
   "metadata": {},
   "outputs": [
    {
     "name": "stdout",
     "output_type": "stream",
     "text": [
      "{'red': 'apple', 'yellow': 'banana', 'orange': 'orange'}\n"
     ]
    }
   ],
   "source": [
    "#Function-5: copy()-to make a copy of the dictionary.\n",
    "\n",
    "dic=fruits.copy()\n",
    "print(dic)"
   ]
  }
 ],
 "metadata": {
  "kernelspec": {
   "display_name": "Python 3",
   "language": "python",
   "name": "python3"
  },
  "language_info": {
   "codemirror_mode": {
    "name": "ipython",
    "version": 3
   },
   "file_extension": ".py",
   "mimetype": "text/x-python",
   "name": "python",
   "nbconvert_exporter": "python",
   "pygments_lexer": "ipython3",
   "version": "3.8.3"
  }
 },
 "nbformat": 4,
 "nbformat_minor": 4
}
